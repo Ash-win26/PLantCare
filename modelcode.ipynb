{
 "cells": [
  {
   "cell_type": "code",
   "execution_count": 14,
   "metadata": {},
   "outputs": [],
   "source": [
    "import os\n",
    "import tensorflow as tf\n",
    "from tensorflow.keras.preprocessing.image import ImageDataGenerator\n",
    "from tensorflow.keras.applications import MobileNetV2\n",
    "from tensorflow.keras.layers import Dense, GlobalAveragePooling2D, Dropout\n",
    "from tensorflow.keras.models import Model\n",
    "from tensorflow.keras.callbacks import EarlyStopping, ModelCheckpoint\n",
    "from tensorflow.keras.mixed_precision import set_global_policy\n",
    "\n",
    "# Enable mixed precision training\n",
    "set_global_policy('mixed_float16')\n",
    "\n",
    "# Path to your dataset\n",
    "dataset_dir = \"C:/Users/Ashwin/Desktop/Plant Disease prediction/Plant_leave_diseases_dataset_with_augmentation\"  # Replace with the path to your dataset folder\n"
   ]
  },
  {
   "cell_type": "code",
   "execution_count": 16,
   "metadata": {},
   "outputs": [
    {
     "name": "stdout",
     "output_type": "stream",
     "text": [
      "Found 49197 images belonging to 39 classes.\n",
      "Found 12289 images belonging to 39 classes.\n"
     ]
    }
   ],
   "source": [
    "# Data Augmentation and Generators\n",
    "data_gen = ImageDataGenerator(\n",
    "    rescale=1.0 / 255,\n",
    "    rotation_range=30,\n",
    "    width_shift_range=0.2,\n",
    "    height_shift_range=0.2,\n",
    "    shear_range=0.2,\n",
    "    zoom_range=0.2,\n",
    "    horizontal_flip=True,\n",
    "    validation_split=0.2  # Reserve 20% of data for validation\n",
    ")\n",
    "\n",
    "train_generator = data_gen.flow_from_directory(\n",
    "    dataset_dir,\n",
    "    target_size=(128, 128),  # Reduced image size\n",
    "    batch_size=16,          # Reduced batch size\n",
    "    class_mode=\"categorical\",\n",
    "    subset=\"training\"  # Use 80% of data for training\n",
    ")\n",
    "\n",
    "val_generator = data_gen.flow_from_directory(\n",
    "    dataset_dir,\n",
    "    target_size=(128, 128),  # Reduced image size\n",
    "    batch_size=16,          # Reduced batch size\n",
    "    class_mode=\"categorical\",\n",
    "    subset=\"validation\"  # Use 20% of data for validation\n",
    ")"
   ]
  },
  {
   "cell_type": "code",
   "execution_count": 17,
   "metadata": {},
   "outputs": [
    {
     "name": "stdout",
     "output_type": "stream",
     "text": [
      "Downloading data from https://storage.googleapis.com/tensorflow/keras-applications/mobilenet_v2/mobilenet_v2_weights_tf_dim_ordering_tf_kernels_1.0_128_no_top.h5\n",
      "\u001b[1m9406464/9406464\u001b[0m \u001b[32m━━━━━━━━━━━━━━━━━━━━\u001b[0m\u001b[37m\u001b[0m \u001b[1m1s\u001b[0m 0us/step\n"
     ]
    }
   ],
   "source": [
    "# Load a pre-trained model (MobileNetV2) and fine-tune\n",
    "base_model = MobileNetV2(weights=\"imagenet\", include_top=False, input_shape=(128, 128, 3))\n",
    "\n",
    "# Freeze the base model\n",
    "base_model.trainable = False\n",
    "\n",
    "# Add custom layers\n",
    "global_avg_pooling = GlobalAveragePooling2D()(base_model.output)\n",
    "dropout_layer = Dropout(0.5)(global_avg_pooling)\n",
    "output_layer = Dense(len(train_generator.class_indices), activation=\"softmax\")(dropout_layer)\n",
    "\n",
    "model = Model(inputs=base_model.input, outputs=output_layer)\n"
   ]
  },
  {
   "cell_type": "code",
   "execution_count": 18,
   "metadata": {},
   "outputs": [],
   "source": [
    "# Compile the model\n",
    "model.compile(\n",
    "    optimizer=tf.keras.optimizers.Adam(learning_rate=0.001),\n",
    "    loss=\"categorical_crossentropy\",\n",
    "    metrics=[\"accuracy\"]\n",
    ")\n",
    "\n",
    "# Callbacks for early stopping and saving the best model\n",
    "early_stopping = EarlyStopping(monitor=\"val_loss\", patience=3, restore_best_weights=True)\n",
    "model_checkpoint = ModelCheckpoint(\"best_model.keras\", monitor=\"val_accuracy\", save_best_only=True)\n"
   ]
  },
  {
   "cell_type": "code",
   "execution_count": 19,
   "metadata": {},
   "outputs": [
    {
     "name": "stderr",
     "output_type": "stream",
     "text": [
      "C:\\Users\\Ashwin\\AppData\\Local\\Packages\\PythonSoftwareFoundation.Python.3.11_qbz5n2kfra8p0\\LocalCache\\local-packages\\Python311\\site-packages\\keras\\src\\trainers\\data_adapters\\py_dataset_adapter.py:121: UserWarning: Your `PyDataset` class should call `super().__init__(**kwargs)` in its constructor. `**kwargs` can include `workers`, `use_multiprocessing`, `max_queue_size`. Do not pass these arguments to `fit()`, as they will be ignored.\n",
      "  self._warn_if_super_not_called()\n"
     ]
    },
    {
     "name": "stdout",
     "output_type": "stream",
     "text": [
      "Epoch 1/10\n",
      "\u001b[1m3075/3075\u001b[0m \u001b[32m━━━━━━━━━━━━━━━━━━━━\u001b[0m\u001b[37m\u001b[0m \u001b[1m1049s\u001b[0m 340ms/step - accuracy: 0.6106 - loss: 1.4731 - val_accuracy: 0.8577 - val_loss: 0.4603\n",
      "Epoch 2/10\n",
      "\u001b[1m3075/3075\u001b[0m \u001b[32m━━━━━━━━━━━━━━━━━━━━\u001b[0m\u001b[37m\u001b[0m \u001b[1m871s\u001b[0m 283ms/step - accuracy: 0.8003 - loss: 0.6609 - val_accuracy: 0.8701 - val_loss: 0.4103\n",
      "Epoch 3/10\n",
      "\u001b[1m3075/3075\u001b[0m \u001b[32m━━━━━━━━━━━━━━━━━━━━\u001b[0m\u001b[37m\u001b[0m \u001b[1m867s\u001b[0m 282ms/step - accuracy: 0.8089 - loss: 0.6408 - val_accuracy: 0.8728 - val_loss: 0.3989\n",
      "Epoch 4/10\n",
      "\u001b[1m3075/3075\u001b[0m \u001b[32m━━━━━━━━━━━━━━━━━━━━\u001b[0m\u001b[37m\u001b[0m \u001b[1m867s\u001b[0m 282ms/step - accuracy: 0.8180 - loss: 0.6349 - val_accuracy: 0.8849 - val_loss: 0.3806\n",
      "Epoch 5/10\n",
      "\u001b[1m3075/3075\u001b[0m \u001b[32m━━━━━━━━━━━━━━━━━━━━\u001b[0m\u001b[37m\u001b[0m \u001b[1m867s\u001b[0m 282ms/step - accuracy: 0.8193 - loss: 0.6263 - val_accuracy: 0.8731 - val_loss: 0.4052\n",
      "Epoch 6/10\n",
      "\u001b[1m3075/3075\u001b[0m \u001b[32m━━━━━━━━━━━━━━━━━━━━\u001b[0m\u001b[37m\u001b[0m \u001b[1m867s\u001b[0m 282ms/step - accuracy: 0.8252 - loss: 0.6163 - val_accuracy: 0.8752 - val_loss: 0.4128\n",
      "Epoch 7/10\n",
      "\u001b[1m3075/3075\u001b[0m \u001b[32m━━━━━━━━━━━━━━━━━━━━\u001b[0m\u001b[37m\u001b[0m \u001b[1m866s\u001b[0m 282ms/step - accuracy: 0.8244 - loss: 0.6219 - val_accuracy: 0.8884 - val_loss: 0.3696\n",
      "Epoch 8/10\n",
      "\u001b[1m3075/3075\u001b[0m \u001b[32m━━━━━━━━━━━━━━━━━━━━\u001b[0m\u001b[37m\u001b[0m \u001b[1m868s\u001b[0m 282ms/step - accuracy: 0.8238 - loss: 0.6418 - val_accuracy: 0.8914 - val_loss: 0.3516\n",
      "Epoch 9/10\n",
      "\u001b[1m3075/3075\u001b[0m \u001b[32m━━━━━━━━━━━━━━━━━━━━\u001b[0m\u001b[37m\u001b[0m \u001b[1m866s\u001b[0m 282ms/step - accuracy: 0.8294 - loss: 0.6229 - val_accuracy: 0.8831 - val_loss: 0.3883\n",
      "Epoch 10/10\n",
      "\u001b[1m3075/3075\u001b[0m \u001b[32m━━━━━━━━━━━━━━━━━━━━\u001b[0m\u001b[37m\u001b[0m \u001b[1m870s\u001b[0m 283ms/step - accuracy: 0.8277 - loss: 0.6333 - val_accuracy: 0.8884 - val_loss: 0.3751\n"
     ]
    }
   ],
   "source": [
    "# Train the model\n",
    "history = model.fit(\n",
    "    train_generator,\n",
    "    validation_data=val_generator,\n",
    "    epochs=10,  # Reduced epochs\n",
    "    callbacks=[early_stopping, model_checkpoint]\n",
    ")"
   ]
  },
  {
   "cell_type": "code",
   "execution_count": 20,
   "metadata": {},
   "outputs": [
    {
     "name": "stdout",
     "output_type": "stream",
     "text": [
      "Epoch 1/5\n",
      "\u001b[1m3075/3075\u001b[0m \u001b[32m━━━━━━━━━━━━━━━━━━━━\u001b[0m\u001b[37m\u001b[0m \u001b[1m2279s\u001b[0m 739ms/step - accuracy: 0.4844 - loss: 4.7112 - val_accuracy: 0.8753 - val_loss: 0.4701\n",
      "Epoch 2/5\n",
      "\u001b[1m3075/3075\u001b[0m \u001b[32m━━━━━━━━━━━━━━━━━━━━\u001b[0m\u001b[37m\u001b[0m \u001b[1m2276s\u001b[0m 740ms/step - accuracy: 0.7894 - loss: 0.8293 - val_accuracy: 0.9007 - val_loss: 0.3281\n",
      "Epoch 3/5\n",
      "\u001b[1m3075/3075\u001b[0m \u001b[32m━━━━━━━━━━━━━━━━━━━━\u001b[0m\u001b[37m\u001b[0m \u001b[1m2276s\u001b[0m 740ms/step - accuracy: 0.8221 - loss: 0.6014 - val_accuracy: 0.9089 - val_loss: 0.2796\n",
      "Epoch 4/5\n",
      "\u001b[1m3075/3075\u001b[0m \u001b[32m━━━━━━━━━━━━━━━━━━━━\u001b[0m\u001b[37m\u001b[0m \u001b[1m2244s\u001b[0m 730ms/step - accuracy: 0.8461 - loss: 0.4956 - val_accuracy: 0.9212 - val_loss: 0.2446\n",
      "Epoch 5/5\n",
      "\u001b[1m3075/3075\u001b[0m \u001b[32m━━━━━━━━━━━━━━━━━━━━\u001b[0m\u001b[37m\u001b[0m \u001b[1m2247s\u001b[0m 731ms/step - accuracy: 0.8642 - loss: 0.4313 - val_accuracy: 0.9212 - val_loss: 0.2352\n"
     ]
    }
   ],
   "source": [
    "# Fine-tune the model\n",
    "base_model.trainable = True\n",
    "for layer in base_model.layers[:-20]:\n",
    "    layer.trainable = False\n",
    "\n",
    "# Recompile the model with a lower learning rate\n",
    "model.compile(\n",
    "    optimizer=tf.keras.optimizers.Adam(learning_rate=1e-5),\n",
    "    loss=\"categorical_crossentropy\",\n",
    "    metrics=[\"accuracy\"]\n",
    ")\n",
    "\n",
    "# Fine-tune the model\n",
    "fine_tune_history = model.fit(\n",
    "    train_generator,\n",
    "    validation_data=val_generator,\n",
    "    epochs=5,  # Fewer epochs for fine-tuning\n",
    "    callbacks=[early_stopping, model_checkpoint]\n",
    ")\n"
   ]
  },
  {
   "cell_type": "code",
   "execution_count": 21,
   "metadata": {},
   "outputs": [
    {
     "name": "stdout",
     "output_type": "stream",
     "text": [
      "\u001b[1m769/769\u001b[0m \u001b[32m━━━━━━━━━━━━━━━━━━━━\u001b[0m\u001b[37m\u001b[0m \u001b[1m184s\u001b[0m 239ms/step - accuracy: 0.9255 - loss: 0.2253\n",
      "Validation Accuracy: 92.77%\n"
     ]
    }
   ],
   "source": [
    "# Save the final model\n",
    "model.save(\"plant_disease_model.keras\")\n",
    "\n",
    "# Evaluate the model\n",
    "final_loss, final_accuracy = model.evaluate(val_generator)\n",
    "print(f\"Validation Accuracy: {final_accuracy * 100:.2f}%\")\n",
    "\n"
   ]
  },
  {
   "cell_type": "code",
   "execution_count": 1,
   "metadata": {},
   "outputs": [
    {
     "name": "stderr",
     "output_type": "stream",
     "text": [
      "C:\\Users\\Ashwin\\AppData\\Local\\Packages\\PythonSoftwareFoundation.Python.3.11_qbz5n2kfra8p0\\LocalCache\\local-packages\\Python311\\site-packages\\keras\\src\\saving\\saving_lib.py:757: UserWarning: Skipping variable loading for optimizer 'adam', because it has 48 variables whereas the saved optimizer has 52 variables. \n",
      "  saveable.load_own_variables(weights_store.get(inner_path))\n"
     ]
    },
    {
     "name": "stdout",
     "output_type": "stream",
     "text": [
      "Found 61486 images belonging to 39 classes.\n",
      "Evaluating the model on the test set...\n"
     ]
    },
    {
     "name": "stderr",
     "output_type": "stream",
     "text": [
      "C:\\Users\\Ashwin\\AppData\\Local\\Packages\\PythonSoftwareFoundation.Python.3.11_qbz5n2kfra8p0\\LocalCache\\local-packages\\Python311\\site-packages\\keras\\src\\trainers\\data_adapters\\py_dataset_adapter.py:121: UserWarning: Your `PyDataset` class should call `super().__init__(**kwargs)` in its constructor. `**kwargs` can include `workers`, `use_multiprocessing`, `max_queue_size`. Do not pass these arguments to `fit()`, as they will be ignored.\n",
      "  self._warn_if_super_not_called()\n"
     ]
    },
    {
     "name": "stdout",
     "output_type": "stream",
     "text": [
      "\u001b[1m3843/3843\u001b[0m \u001b[32m━━━━━━━━━━━━━━━━━━━━\u001b[0m\u001b[37m\u001b[0m \u001b[1m863s\u001b[0m 224ms/step - accuracy: 0.9448 - loss: 0.1754\n",
      "Test Loss: 0.22280895709991455\n",
      "Test Accuracy: 0.9271866679191589\n",
      "Generating predictions...\n",
      "\u001b[1m3843/3843\u001b[0m \u001b[32m━━━━━━━━━━━━━━━━━━━━\u001b[0m\u001b[37m\u001b[0m \u001b[1m815s\u001b[0m 212ms/step\n",
      "\n",
      "Classification Report:\n",
      "                                               precision    recall  f1-score   support\n",
      "\n",
      "                           Apple___Apple_scab       0.92      0.87      0.89      1000\n",
      "                            Apple___Black_rot       0.97      0.94      0.95      1000\n",
      "                     Apple___Cedar_apple_rust       0.98      0.99      0.99      1000\n",
      "                              Apple___healthy       0.93      0.94      0.94      1645\n",
      "                    Background_without_leaves       0.99      0.98      0.98      1143\n",
      "                          Blueberry___healthy       0.99      0.97      0.98      1502\n",
      "                      Cherry___Powdery_mildew       1.00      0.96      0.98      1052\n",
      "                             Cherry___healthy       0.71      0.99      0.83      1000\n",
      "   Corn___Cercospora_leaf_spot Gray_leaf_spot       0.90      0.85      0.87      1000\n",
      "                           Corn___Common_rust       0.97      1.00      0.98      1192\n",
      "                  Corn___Northern_Leaf_Blight       0.87      0.89      0.88      1000\n",
      "                               Corn___healthy       0.99      0.98      0.99      1162\n",
      "                            Grape___Black_rot       0.98      0.90      0.94      1180\n",
      "                 Grape___Esca_(Black_Measles)       0.92      0.98      0.95      1383\n",
      "   Grape___Leaf_blight_(Isariopsis_Leaf_Spot)       0.99      0.98      0.98      1076\n",
      "                              Grape___healthy       0.95      1.00      0.97      1000\n",
      "     Orange___Haunglongbing_(Citrus_greening)       0.98      1.00      0.99      5507\n",
      "                       Peach___Bacterial_spot       0.93      0.99      0.96      2297\n",
      "                              Peach___healthy       0.94      0.96      0.95      1000\n",
      "                Pepper,_bell___Bacterial_spot       0.91      0.94      0.92      1000\n",
      "                       Pepper,_bell___healthy       0.88      0.97      0.92      1478\n",
      "                        Potato___Early_blight       0.97      0.95      0.96      1000\n",
      "                         Potato___Late_blight       0.91      0.86      0.89      1000\n",
      "                             Potato___healthy       0.99      0.70      0.82      1000\n",
      "                          Raspberry___healthy       0.98      0.90      0.94      1000\n",
      "                            Soybean___healthy       0.98      0.97      0.97      5090\n",
      "                      Squash___Powdery_mildew       0.99      0.98      0.99      1835\n",
      "                     Strawberry___Leaf_scorch       0.99      0.97      0.98      1109\n",
      "                         Strawberry___healthy       0.97      0.90      0.93      1000\n",
      "                      Tomato___Bacterial_spot       0.85      0.95      0.90      2127\n",
      "                        Tomato___Early_blight       0.81      0.50      0.62      1000\n",
      "                         Tomato___Late_blight       0.84      0.85      0.85      1909\n",
      "                           Tomato___Leaf_Mold       0.78      0.88      0.83      1000\n",
      "                  Tomato___Septoria_leaf_spot       0.88      0.80      0.84      1771\n",
      "Tomato___Spider_mites Two-spotted_spider_mite       0.74      0.89      0.81      1676\n",
      "                         Tomato___Target_Spot       0.71      0.73      0.72      1404\n",
      "       Tomato___Tomato_Yellow_Leaf_Curl_Virus       0.98      0.98      0.98      5357\n",
      "                 Tomato___Tomato_mosaic_virus       0.94      0.90      0.92      1000\n",
      "                             Tomato___healthy       0.97      0.76      0.85      1591\n",
      "\n",
      "                                     accuracy                           0.93     61486\n",
      "                                    macro avg       0.92      0.91      0.91     61486\n",
      "                                 weighted avg       0.93      0.93      0.93     61486\n",
      "\n",
      "\n",
      "Confusion Matrix:\n",
      "[[ 867    6    2 ...    1    0    2]\n",
      " [   3  943    1 ...    0    0    0]\n",
      " [   3    0  986 ...    0    0    0]\n",
      " ...\n",
      " [   0    0    0 ... 5249    7    0]\n",
      " [   0    0    0 ...   18  899    0]\n",
      " [   0    0    0 ...    0    1 1216]]\n"
     ]
    }
   ],
   "source": [
    "import tensorflow as tf\n",
    "from tensorflow.keras.preprocessing.image import ImageDataGenerator\n",
    "import os\n",
    "import numpy as np\n",
    "from sklearn.metrics import classification_report, confusion_matrix\n",
    "\n",
    "# Load the saved model\n",
    "model_path = \"C:/Users/Ashwin/Desktop/Plant Disease prediction/plant_disease_model.keras\"  # Update this with the path to your model file\n",
    "model = tf.keras.models.load_model(model_path)\n",
    "\n",
    "# Path to the test dataset directory\n",
    "test_dataset_dir = \"C:/Users/Ashwin/Desktop/Plant Disease prediction/Plant_leave_diseases_dataset_with_augmentation\"  # Update this with the path to your test dataset\n",
    "\n",
    "# Data Generator for Test Set\n",
    "test_data_gen = ImageDataGenerator(rescale=1.0 / 255)\n",
    "\n",
    "test_generator = test_data_gen.flow_from_directory(\n",
    "    test_dataset_dir,\n",
    "    target_size=(128, 128),  # Same size as during training\n",
    "    batch_size=16,          # Adjust batch size as needed\n",
    "    class_mode=\"categorical\",\n",
    "    shuffle=False           # Do not shuffle to align predictions with filenames\n",
    ")\n",
    "\n",
    "# Get class labels\n",
    "class_labels = list(test_generator.class_indices.keys())\n",
    "\n",
    "# Evaluate the model\n",
    "print(\"Evaluating the model on the test set...\")\n",
    "loss, accuracy = model.evaluate(test_generator)\n",
    "print(f\"Test Loss: {loss}\")\n",
    "print(f\"Test Accuracy: {accuracy}\")\n",
    "\n",
    "# Predict on the test set\n",
    "print(\"Generating predictions...\")\n",
    "predictions = model.predict(test_generator)\n",
    "predicted_classes = np.argmax(predictions, axis=1)\n",
    "true_classes = test_generator.classes\n",
    "\n",
    "# Classification report\n",
    "print(\"\\nClassification Report:\")\n",
    "print(classification_report(true_classes, predicted_classes, target_names=class_labels))\n",
    "\n",
    "# Confusion Matrix\n",
    "print(\"\\nConfusion Matrix:\")\n",
    "cm = confusion_matrix(true_classes, predicted_classes)\n",
    "print(cm)\n"
   ]
  },
  {
   "cell_type": "code",
   "execution_count": 3,
   "metadata": {},
   "outputs": [
    {
     "name": "stdout",
     "output_type": "stream",
     "text": [
      "\u001b[1m1/1\u001b[0m \u001b[32m━━━━━━━━━━━━━━━━━━━━\u001b[0m\u001b[37m\u001b[0m \u001b[1m1s\u001b[0m 1s/step\n",
      "Predicted Disease: Corn___healthy\n",
      "Confidence: 99.88%\n"
     ]
    },
    {
     "data": {
      "text/plain": [
       "('Corn___healthy', np.float16(99.9))"
      ]
     },
     "execution_count": 3,
     "metadata": {},
     "output_type": "execute_result"
    }
   ],
   "source": [
    "import tensorflow as tf\n",
    "from tensorflow.keras.preprocessing.image import load_img, img_to_array\n",
    "import numpy as np\n",
    "\n",
    "# Load the trained model\n",
    "model_path = \"C:/Users/Ashwin/Desktop/Plant Disease prediction/plant_disease_model.keras\"  # Update with the path to your model file\n",
    "model = tf.keras.models.load_model(model_path)\n",
    "\n",
    "# Class labels (replace with the labels in your dataset)\n",
    "class_labels = [\n",
    "    \"Apple___Apple_scab\", \"Apple___Black_rot\", \"Apple___Cedar_apple_rust\",  \n",
    "    \"Apple___healthy\", \"Background_without_leaves\", \"Blueberry___healthy\", \n",
    "    \"Cherry___healthy\", \"Cherry___Powdery_mildew\", \"Corn___Cercospora_leaf_spot Gray_leaf_spot\", \n",
    "    \"Corn___Common_rust\", \"Corn___healthy\", \"Corn___Northern_Leaf_Blight\", \"Grape___Black_rot\",\n",
    "    \"Grape___Esca_(Black_Measles)\", \"Grape___healthy\", \"Grape___Leaf_blight_(Isariopsis_Leaf_Spot)\",\n",
    "    \"Orange___Haunglongbing_(Citrus_greening)\", \"Peach___Bacterial_spot\", \"Peach___healthy\", \"Pepper_bell___Bacterial_spot\",\n",
    "    \"Pepper_bell___healthy\", \"Potato___Early_blight\", \"Potato___healthy\", \"Potato___Late_blight\",\n",
    "    \"Raspberry___healthy\", \"Soybean___healthy\", \"Squash___Powdery_mildew\", \"Strawberry___healthy\",\n",
    "    \"Strawberry___Leaf_scorch\", \"Tomato___Bacterial_spot\", \"Tomato___Early_blight\", \"Tomato___healthy\",\n",
    "    \"Tomato___Late_blight\", \"Tomato___Leaf_Mold\", \"Tomato___Septoria_leaf_spot\", \"Tomato___Spider_mites Two-spotted_spider_mite\",\n",
    "    \"Tomato___Target_Spot\", \"Tomato___Tomato_mosaic_virus\", \"Tomato___Tomato_Yellow_Leaf_Curl_Virus\"\n",
    "\n",
    "]\n",
    "\n",
    "# Function to predict the disease from an image\n",
    "def predict_disease(image_path):\n",
    "    # Load and preprocess the image\n",
    "    img = load_img(image_path, target_size=(128, 128))  # Ensure the size matches the training images\n",
    "    img_array = img_to_array(img) / 255.0  # Normalize the image\n",
    "    img_array = np.expand_dims(img_array, axis=0)  # Add batch dimension\n",
    "    \n",
    "    # Make a prediction\n",
    "    predictions = model.predict(img_array)\n",
    "    predicted_class = np.argmax(predictions, axis=1)[0]\n",
    "    \n",
    "    # Get the disease label\n",
    "    predicted_label = class_labels[predicted_class]\n",
    "    confidence = predictions[0][predicted_class] * 100\n",
    "    \n",
    "    print(f\"Predicted Disease: {predicted_label}\")\n",
    "    print(f\"Confidence: {confidence:.2f}%\")\n",
    "    return predicted_label, confidence\n",
    "\n",
    "# Example usage\n",
    "image_path = \"Plant_leave_diseases_dataset_with_augmentation/Corn___Northern_Leaf_Blight\\image (12).JPG\"  # Replace with the path to the plant image\n",
    "predict_disease(image_path)\n"
   ]
  }
 ],
 "metadata": {
  "kernelspec": {
   "display_name": "Python 3",
   "language": "python",
   "name": "python3"
  },
  "language_info": {
   "codemirror_mode": {
    "name": "ipython",
    "version": 3
   },
   "file_extension": ".py",
   "mimetype": "text/x-python",
   "name": "python",
   "nbconvert_exporter": "python",
   "pygments_lexer": "ipython3",
   "version": "3.11.9"
  }
 },
 "nbformat": 4,
 "nbformat_minor": 2
}
